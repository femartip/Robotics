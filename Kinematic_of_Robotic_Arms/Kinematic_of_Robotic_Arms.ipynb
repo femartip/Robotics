{
 "cells": [
  {
   "cell_type": "markdown",
   "metadata": {},
   "source": [
    "# Kinematics of robotic arms with Denavit-Hartenberg framework\n",
    "\n",
    "\n",
    "This lab session concerns robot kinematics. Our focus will be on robotic manipulators, commonly called robot arms. Like the previous weeks, we will run your algorithm on a virtual arm, simulated with pybullet. However, except for the Jupyer Notebook format, this lab session is completely different from those on sensor interpretation. The associated theory just concerns the part \"modeling with basis transformation matrices\", and its application to robot arms, in the Lecture on Kinematics.\n",
    "\n",
    "This notebook assumes that you have python3, matplotlib, pybullet and numpy installed. \n",
    "You should already have downloaded the figure folder and the urdf folder, and possibly insalled Pybullet, for the homework.\n",
    "\n",
    "- Exercise 1 is an introductory exercise to get familiar with the DH framework\n",
    "- Exercise 2 performs inverse kinematics, using the velocity-based apporach as explained in the lecture \n",
    "- Exercise 3 shows the power of the DH framework on a multi-body 3D robot arm, where a geometric reasoning would get too cumbersome.\n",
    "\n",
    "You can also check out the optional questions and additional exercises, but these are mainly meant for training at home."
   ]
  },
  {
   "cell_type": "code",
   "execution_count": 36,
   "metadata": {},
   "outputs": [],
   "source": [
    "%matplotlib inline\n",
    "import pybullet as p\n",
    "import time\n",
    "import pybullet_data\n",
    "import numpy as np\n",
    "import pylab as pl\n",
    "import matplotlib.pyplot as plt\n",
    "from mpl_toolkits import mplot3d\n",
    "\n",
    "#import seaborn # optional / improves graphics of pylab plots"
   ]
  },
  {
   "cell_type": "markdown",
   "metadata": {},
   "source": [
    "## Exercise 1: Comparing geometric vs. DH modeling on planar manipulator\n",
    "\n",
    "The Denavit-Hartenberg framework (DH) uses basis transformation matrices to obtain a systematic modeling of robot manipuators. It is useful for computer-based modeling of manipulators with many segments, and especially in 3 dimensions, where a manual description of the geometric arrangement becomes difficult. For few segments and in 2 dimensions, a manual geometric description remains reasonably easy. The purpose of this first exercise is to familiarize yourself with the DH framework, relating it to your geometric description, on a simple manipulator.\n",
    "\n",
    "Consider the following 3-segmented planar robot manipulator, with L1=6, L2=4, L3=2 (in meter). For any values of the joint angles $\\theta_1$, $\\theta_2$, $\\theta_3$, we can compute the end-effector position from geometric properties, using trigonometry. We can also use the DH framework. Finally, we can test on a real robot (here replaced by a pybullet simulation).\n",
    "\n",
    "![3R planar](./figs/figs.001.jpeg)\n"
   ]
  },
  {
   "cell_type": "markdown",
   "metadata": {},
   "source": [
    "### A. Geometric modeling\n",
    "\n",
    "**Question/exercise**  Derive the position of the end-effector, as a function of the joint angles, \"by hand\" using geometry/trigonometry. Implement your analytical solution as a function to be used later with explicit values."
   ]
  },
  {
   "cell_type": "code",
   "execution_count": 37,
   "metadata": {},
   "outputs": [],
   "source": [
    "def geometric_planar(theta1, theta2, theta3):\n",
    "    # theta should be a vector with the joint angles\n",
    "    # implement your analytical solution here (using trigonometry)\n",
    "    \n",
    "    # lengths\n",
    "    L1=6\n",
    "    L2=4\n",
    "    L3=2\n",
    "\n",
    "    pos_x = L1*np.cos(theta1) + L2*np.cos(theta1+ theta2) + L3*np.cos(theta1+ theta2 + theta3)\n",
    "    pos_y = L1*np.sin(theta1) + L2*np.sin(theta1+ theta2) + L3*np.sin(theta1+ theta2 + theta3)\n",
    "\n",
    "    \n",
    "    \n",
    "    return pos_x, pos_y"
   ]
  },
  {
   "cell_type": "markdown",
   "metadata": {},
   "source": [
    "### B. DH modeling\n",
    "\n",
    "**Question/exercise**  Implement the DH modeling to compute the end-effector position as a function of the joint angles.\n",
    "\n",
    "*Reminder*: \n",
    "The DH framework in N dimensions uses (N+1)x(N+1) matrices to represent the end-effector situation as a translation and rotation with respect to a reference coordinate frame$_0$, as follows:\n",
    "\n",
    "\\begin{equation}\n",
    "g = \\begin{bmatrix} \n",
    "Rotation_{N x N} & Translation_{Nx1} \\\\\n",
    "zeros_{1 x N} & 1 \n",
    "\\end{bmatrix}\n",
    "\\end{equation}\n",
    "\n",
    "The advantage is that $g=g_{0,4}$ the transformation from coordinate frame $0$ to coordinate frame $4$ can be obtained by just multiplying the consecutive elementary transformations, from coordinate frame $0$ to $1$, then from $1$ to $2$, and so on:\n",
    "\n",
    "\\begin{equation}\n",
    "g_{0,4} = g_{0,1} * g_{1,2} * g_{2,3} * g_{3,4}.\n",
    "\\end{equation}\n",
    "\n",
    "The important simplification is that for writing down for instance $T_{1,2}$, you only need to check how frame 2 is positioned **in the coordinates of frame 1**, thus here translated along $x_1$ then turned by $\\theta_2$.\n",
    "\n",
    "For planar motion (N=2), the transformation matrix which takes the reference frame at $j$, **first** translates it by the vector $(p_x, p_y)$ (with x,y components according to the coordinate frame $j$), **then** rotates it by an angle $\\alpha$, has the explicit form:\n",
    "\\begin{equation}\n",
    "\\mathrm{g_{j,k}}(\\alpha,p) = \n",
    "\\begin{bmatrix} \n",
    "\\cos(\\alpha) & -\\sin(\\alpha) & p_x \\\\\n",
    "\\sin(\\alpha) & \\cos(\\alpha) & p_y \\\\\n",
    "0 & 0 & 1 \n",
    "\\end{bmatrix} \\;\\; .\n",
    "\\end{equation}\n",
    "\n"
   ]
  },
  {
   "cell_type": "code",
   "execution_count": 58,
   "metadata": {},
   "outputs": [],
   "source": [
    "def DH_planar(theta1, theta2, theta3):\n",
    "    # lengths\n",
    "    L1=6\n",
    "    L2=4\n",
    "    L3=2\n",
    "\n",
    "    #HERE THE SOLUTION\n",
    "    \n",
    "    # some helper functions\n",
    "    s1 = np.sin(theta1)\n",
    "    c1 = np.cos(theta1)\n",
    "    s2 = np.sin(theta2)\n",
    "    c2 = np.cos(theta2)    \n",
    "    s3 = np.sin(theta3)\n",
    "    c3 = np.cos(theta3)       \n",
    "    \n",
    "    g01 = np.array([[c1, -s1, 0],\n",
    "                  [s1, c1,  0],\n",
    "                  [0,0,1]])\n",
    "    g12 = np.array([[c2, -s2, L1],\n",
    "                  [s2, c2,  0],\n",
    "                  [0,0,1]])\n",
    "    g23 = np.array([[c3,-s3,L2],\n",
    "                    [s3,c3,0],\n",
    "                    [0,0,0]])\n",
    "    g34 = np.array([[1,0,L3],\n",
    "                    [0,1,0],\n",
    "                    [0,0,1]])\n",
    "    \n",
    "    g = g01 @ g12 @ g23 @ g34\n",
    "\n",
    "    pos_x = g[0,2]\n",
    "    pos_y = g[1,2]\n",
    "\n",
    "    return pos_x, pos_y"
   ]
  },
  {
   "cell_type": "markdown",
   "metadata": {},
   "source": [
    "### C.  Validating the solution\n",
    "\n",
    "Compare the solutions obtained with your two functions, and the one obtained with Pybullet.\n",
    "\n",
    "**Question/exercise** Run the code below and check that you draw the same picture with all three models. If not, correct your code and make sure to understand how things must be modeled in DH on this planar example."
   ]
  },
  {
   "cell_type": "code",
   "execution_count": 55,
   "metadata": {
    "scrolled": true
   },
   "outputs": [],
   "source": [
    "# defining the sequence of angle values (some random shape)\n",
    "\n",
    "theta1seq = np.pi*np.array([0  , -0.1 , -0.2 , -0.1 , 0 ,   0.3 , 1/7, 1/7, 1/6, 0  , 1/6 , 1/6, 0.3/(np.pi) ])\n",
    "theta2seq = np.pi*np.array([0.5, 0.5  , 0.5  , 0.5  , 0.5 , -0.4 , 0,  0, 0,   1/6,  0 , -1/4, -0.6/(np.pi) ])\n",
    "theta3seq = np.pi*np.array([0  , 0.5 ,  1 ,    1.3 , 1.6,  0.1 ,   0,  -3/5, 1/6, 1.3, 1.5 , 0, 0 ])"
   ]
  },
  {
   "cell_type": "code",
   "execution_count": 59,
   "metadata": {
    "scrolled": true
   },
   "outputs": [
    {
     "data": {
      "image/png": "[encoded data removed]",
      "text/plain": [
       "<Figure size 1000x1000 with 1 Axes>"
      ]
     },
     "metadata": {},
     "output_type": "display_data"
    },
    {
     "data": {
      "image/png": "[encoded data removed]",
      "text/plain": [
       "<Figure size 1000x1000 with 1 Axes>"
      ]
     },
     "metadata": {},
     "output_type": "display_data"
    }
   ],
   "source": [
    "# Let us start with the geometric model    \n",
    "x = []\n",
    "y = []\n",
    "for i in range(len(theta1seq)):\n",
    "    x.append(geometric_planar(theta1seq[i], theta2seq[i], theta3seq[i])[0])\n",
    "    y.append(geometric_planar(theta1seq[i], theta2seq[i], theta3seq[i])[1])\n",
    "fig, axnstd2 = plt.subplots(figsize=(10, 10))\n",
    "pl.plot(x,y,'g-')\n",
    "axnstd2.set_aspect(\"equal\")\n",
    "\n",
    "# Here comes the DH model\n",
    "x = []\n",
    "y = []\n",
    "for i in range(len(theta1seq)):\n",
    "    x.append(DH_planar(theta1seq[i], theta2seq[i], theta3seq[i])[0])\n",
    "    y.append(DH_planar(theta1seq[i], theta2seq[i], theta3seq[i])[1])\n",
    "fig, axnstd = plt.subplots(figsize=(10, 10))\n",
    "pl.plot(x,y,'r-')\n",
    "axnstd.set_aspect(\"equal\")"
   ]
  },
  {
   "cell_type": "markdown",
   "metadata": {},
   "source": [
    "The next cells initialize the pybullet simulation"
   ]
  },
  {
   "cell_type": "code",
   "execution_count": 31,
   "metadata": {},
   "outputs": [],
   "source": [
    "physicsClient = p.connect(p.DIRECT) #or p.GUI for the graphical version"
   ]
  },
  {
   "cell_type": "code",
   "execution_count": 32,
   "metadata": {},
   "outputs": [],
   "source": [
    "p.resetDebugVisualizerCamera(cameraDistance=20, cameraYaw=0, cameraPitch=-89, cameraTargetPosition=[0,0,1.0])\n",
    "p.setAdditionalSearchPath(pybullet_data.getDataPath()) \n",
    "p.setGravity(0,0,0)\n",
    "planeId = p.loadURDF(\"plane.urdf\")\n",
    "start_pos = [0,0,2.9]\n",
    "start_orientation = p.getQuaternionFromEuler([0,0,0])"
   ]
  },
  {
   "cell_type": "markdown",
   "metadata": {},
   "source": [
    "After setup of the pybullet environment we load an URDF-file which describes all the elements of our robot."
   ]
  },
  {
   "cell_type": "code",
   "execution_count": 33,
   "metadata": {},
   "outputs": [
    {
     "name": "stdout",
     "output_type": "stream",
     "text": [
      "b3Warning[examples/Importers/ImportURDFDemo/BulletUrdfImporter.cpp,126]:\n",
      "No inertial data for link, using mass=1, localinertiadiagonal = 1,1,1, identity local inertial frameb3Warning[examples/Importers/ImportURDFDemo/BulletUrdfImporter.cpp,126]:\n",
      "base_linkb3Warning[examples/Importers/ImportURDFDemo/BulletUrdfImporter.cpp,126]:\n",
      "No inertial data for link, using mass=1, localinertiadiagonal = 1,1,1, identity local inertial frameb3Warning[examples/Importers/ImportURDFDemo/BulletUrdfImporter.cpp,126]:\n",
      "link1b3Warning[examples/Importers/ImportURDFDemo/BulletUrdfImporter.cpp,126]:\n",
      "No inertial data for link, using mass=1, localinertiadiagonal = 1,1,1, identity local inertial frameb3Warning[examples/Importers/ImportURDFDemo/BulletUrdfImporter.cpp,126]:\n",
      "link2b3Warning[examples/Importers/ImportURDFDemo/BulletUrdfImporter.cpp,126]:\n",
      "No inertial data for link, using mass=1, localinertiadiagonal = 1,1,1, identity local inertial frameb3Warning[examples/Importers/ImportURDFDemo/BulletUrdfImporter.cpp,126]:\n",
      "link3b3Warning[examples/Importers/ImportURDFDemo/BulletUrdfImporter.cpp,126]:\n",
      "No inertial data for link, using mass=1, localinertiadiagonal = 1,1,1, identity local inertial frameb3Warning[examples/Importers/ImportURDFDemo/BulletUrdfImporter.cpp,126]:\n",
      "endeffector"
     ]
    }
   ],
   "source": [
    "robot_id = p.loadURDF(\"urdf/planar_robot.urdf\", start_pos, start_orientation, useFixedBase=True)\n",
    "numJoints = p.getNumJoints(robot_id) # get the number of joints from the URDF"
   ]
  },
  {
   "cell_type": "markdown",
   "metadata": {},
   "source": [
    "Now we can simulate the robot. The function *resetJointState* is used to force the robot into its position. With the function *getLinkState* we can get the state of a link. We have a dummy joint at the end-effector in order to get its state."
   ]
  },
  {
   "cell_type": "code",
   "execution_count": 34,
   "metadata": {},
   "outputs": [
    {
     "data": {
      "application/javascript": "/* Put everything inside the global mpl namespace */\nwindow.mpl = {};\n\n\nmpl.get_websocket_type = function() {\n    if (typeof(WebSocket) !== 'undefined') {\n        return WebSocket;\n    } else if (typeof(MozWebSocket) !== 'undefined') {\n        return MozWebSocket;\n    } else {\n        alert('Your browser does not have WebSocket support. ' +\n              'Please try Chrome, Safari or Firefox ≥ 6. ' +\n              'Firefox 4 and 5 are also supported but you ' +\n              'have to enable WebSockets in about:config.');\n    };\n}\n\nmpl.figure = function(figure_id, websocket, ondownload, parent_element) {\n    this.id = figure_id;\n\n    this.ws = websocket;\n\n    this.supports_binary = (this.ws.binaryType != undefined);\n\n    if (!this.supports_binary) {\n        var warnings = document.getElementById(\"mpl-warnings\");\n        if (warnings) {\n            warnings.style.display = 'block';\n            warnings.textContent = (\n                \"This browser does not support binary websocket messages. \" +\n                    \"Performance may be slow.\");\n        }\n    }\n\n    this.imageObj = new Image();\n\n    this.context = undefined;\n    this.message = undefined;\n    this.canvas = undefined;\n    this.rubberband_canvas = undefined;\n    this.rubberband_context = undefined;\n    this.format_dropdown = undefined;\n\n    this.image_mode = 'full';\n\n    this.root = $('<div/>');\n    this._root_extra_style(this.root)\n    this.root.attr('style', 'display: inline-block');\n\n    $(parent_element).append(this.root);\n\n    this._init_header(this);\n    this._init_canvas(this);\n    this._init_toolbar(this);\n\n    var fig = this;\n\n    this.waiting = false;\n\n    this.ws.onopen =  function () {\n            fig.send_message(\"supports_binary\", {value: fig.supports_binary});\n            fig.send_message(\"send_image_mode\", {});\n            if (mpl.ratio != 1) {\n                fig.send_message(\"set_dpi_ratio\", {'dpi_ratio': mpl.ratio});\n            }\n            fig.send_message(\"refresh\", {});\n        }\n\n    this.imageObj.onload = function() {\n            if (fig.image_mode == 'full') {\n                // Full images could contain transparency (where diff images\n                // almost always do), so we need to clear the canvas so that\n                // there is no ghosting.\n                fig.context.clearRect(0, 0, fig.canvas.width, fig.canvas.height);\n            }\n            fig.context.drawImage(fig.imageObj, 0, 0);\n        };\n\n    this.imageObj.onunload = function() {\n        fig.ws.close();\n    }\n\n    this.ws.onmessage = this._make_on_message_function(this);\n\n    this.ondownload = ondownload;\n}\n\nmpl.figure.prototype._init_header = function() {\n    var titlebar = $(\n        '<div class=\"ui-dialog-titlebar ui-widget-header ui-corner-all ' +\n        'ui-helper-clearfix\"/>');\n    var titletext = $(\n        '<div class=\"ui-dialog-title\" style=\"width: 100%; ' +\n        'text-align: center; padding: 3px;\"/>');\n    titlebar.append(titletext)\n    this.root.append(titlebar);\n    this.header = titletext[0];\n}\n\n\n\nmpl.figure.prototype._canvas_extra_style = function(canvas_div) {\n\n}\n\n\nmpl.figure.prototype._root_extra_style = function(canvas_div) {\n\n}\n\nmpl.figure.prototype._init_canvas = function() {\n    var fig = this;\n\n    var canvas_div = $('<div/>');\n\n    canvas_div.attr('style', 'position: relative; clear: both; outline: 0');\n\n    function canvas_keyboard_event(event) {\n        return fig.key_event(event, event['data']);\n    }\n\n    canvas_div.keydown('key_press', canvas_keyboard_event);\n    canvas_div.keyup('key_release', canvas_keyboard_event);\n    this.canvas_div = canvas_div\n    this._canvas_extra_style(canvas_div)\n    this.root.append(canvas_div);\n\n    var canvas = $('<canvas/>');\n    canvas.addClass('mpl-canvas');\n    canvas.attr('style', \"left: 0; top: 0; z-index: 0; outline: 0\")\n\n    this.canvas = canvas[0];\n    this.context = canvas[0].getContext(\"2d\");\n\n    var backingStore = this.context.backingStorePixelRatio ||\n\tthis.context.webkitBackingStorePixelRatio ||\n\tthis.context.mozBackingStorePixelRatio ||\n\tthis.context.msBackingStorePixelRatio ||\n\tthis.context.oBackingStorePixelRatio ||\n\tthis.context.backingStorePixelRatio || 1;\n\n    mpl.ratio = (window.devicePixelRatio || 1) / backingStore;\n\n    var rubberband = $('<canvas/>');\n    rubberband.attr('style', \"position: absolute; left: 0; top: 0; z-index: 1;\")\n\n    var pass_mouse_events = true;\n\n    canvas_div.resizable({\n        start: function(event, ui) {\n            pass_mouse_events = false;\n        },\n        resize: function(event, ui) {\n            fig.request_resize(ui.size.width, ui.size.height);\n        },\n        stop: function(event, ui) {\n            pass_mouse_events = true;\n            fig.request_resize(ui.size.width, ui.size.height);\n        },\n    });\n\n    function mouse_event_fn(event) {\n        if (pass_mouse_events)\n            return fig.mouse_event(event, event['data']);\n    }\n\n    rubberband.mousedown('button_press', mouse_event_fn);\n    rubberband.mouseup('button_release', mouse_event_fn);\n    // Throttle sequential mouse events to 1 every 20ms.\n    rubberband.mousemove('motion_notify', mouse_event_fn);\n\n    rubberband.mouseenter('figure_enter', mouse_event_fn);\n    rubberband.mouseleave('figure_leave', mouse_event_fn);\n\n    canvas_div.on(\"wheel\", function (event) {\n        event = event.originalEvent;\n        event['data'] = 'scroll'\n        if (event.deltaY < 0) {\n            event.step = 1;\n        } else {\n            event.step = -1;\n        }\n        mouse_event_fn(event);\n    });\n\n    canvas_div.append(canvas);\n    canvas_div.append(rubberband);\n\n    this.rubberband = rubberband;\n    this.rubberband_canvas = rubberband[0];\n    this.rubberband_context = rubberband[0].getContext(\"2d\");\n    this.rubberband_context.strokeStyle = \"#000000\";\n\n    this._resize_canvas = function(width, height) {\n        // Keep the size of the canvas, canvas container, and rubber band\n        // canvas in synch.\n        canvas_div.css('width', width)\n        canvas_div.css('height', height)\n\n        canvas.attr('width', width * mpl.ratio);\n        canvas.attr('height', height * mpl.ratio);\n        canvas.attr('style', 'width: ' + width + 'px; height: ' + height + 'px;');\n\n        rubberband.attr('width', width);\n        rubberband.attr('height', height);\n    }\n\n    // Set the figure to an initial 600x600px, this will subsequently be updated\n    // upon first draw.\n    this._resize_canvas(600, 600);\n\n    // Disable right mouse context menu.\n    $(this.rubberband_canvas).bind(\"contextmenu\",function(e){\n        return false;\n    });\n\n    function set_focus () {\n        canvas.focus();\n        canvas_div.focus();\n    }\n\n    window.setTimeout(set_focus, 100);\n}\n\nmpl.figure.prototype._init_toolbar = function() {\n    var fig = this;\n\n    var nav_element = $('<div/>');\n    nav_element.attr('style', 'width: 100%');\n    this.root.append(nav_element);\n\n    // Define a callback function for later on.\n    function toolbar_event(event) {\n        return fig.toolbar_button_onclick(event['data']);\n    }\n    function toolbar_mouse_event(event) {\n        return fig.toolbar_button_onmouseover(event['data']);\n    }\n\n    for(var toolbar_ind in mpl.toolbar_items) {\n        var name = mpl.toolbar_items[toolbar_ind][0];\n        var tooltip = mpl.toolbar_items[toolbar_ind][1];\n        var image = mpl.toolbar_items[toolbar_ind][2];\n        var method_name = mpl.toolbar_items[toolbar_ind][3];\n\n        if (!name) {\n            // put a spacer in here.\n            continue;\n        }\n        var button = $('<button/>');\n        button.addClass('ui-button ui-widget ui-state-default ui-corner-all ' +\n                        'ui-button-icon-only');\n        button.attr('role', 'button');\n        button.attr('aria-disabled', 'false');\n        button.click(method_name, toolbar_event);\n        button.mouseover(tooltip, toolbar_mouse_event);\n\n        var icon_img = $('<span/>');\n        icon_img.addClass('ui-button-icon-primary ui-icon');\n        icon_img.addClass(image);\n        icon_img.addClass('ui-corner-all');\n\n        var tooltip_span = $('<span/>');\n        tooltip_span.addClass('ui-button-text');\n        tooltip_span.html(tooltip);\n\n        button.append(icon_img);\n        button.append(tooltip_span);\n\n        nav_element.append(button);\n    }\n\n    var fmt_picker_span = $('<span/>');\n\n    var fmt_picker = $('<select/>');\n    fmt_picker.addClass('mpl-toolbar-option ui-widget ui-widget-content');\n    fmt_picker_span.append(fmt_picker);\n    nav_element.append(fmt_picker_span);\n    this.format_dropdown = fmt_picker[0];\n\n    for (var ind in mpl.extensions) {\n        var fmt = mpl.extensions[ind];\n        var option = $(\n            '<option/>', {selected: fmt === mpl.default_extension}).html(fmt);\n        fmt_picker.append(option);\n    }\n\n    // Add hover states to the ui-buttons\n    $( \".ui-button\" ).hover(\n        function() { $(this).addClass(\"ui-state-hover\");},\n        function() { $(this).removeClass(\"ui-state-hover\");}\n    );\n\n    var status_bar = $('<span class=\"mpl-message\"/>');\n    nav_element.append(status_bar);\n    this.message = status_bar[0];\n}\n\nmpl.figure.prototype.request_resize = function(x_pixels, y_pixels) {\n    // Request matplotlib to resize the figure. Matplotlib will then trigger a resize in the client,\n    // which will in turn request a refresh of the image.\n    this.send_message('resize', {'width': x_pixels, 'height': y_pixels});\n}\n\nmpl.figure.prototype.send_message = function(type, properties) {\n    properties['type'] = type;\n    properties['figure_id'] = this.id;\n    this.ws.send(JSON.stringify(properties));\n}\n\nmpl.figure.prototype.send_draw_message = function() {\n    if (!this.waiting) {\n        this.waiting = true;\n        this.ws.send(JSON.stringify({type: \"draw\", figure_id: this.id}));\n    }\n}\n\n\nmpl.figure.prototype.handle_save = function(fig, msg) {\n    var format_dropdown = fig.format_dropdown;\n    var format = format_dropdown.options[format_dropdown.selectedIndex].value;\n    fig.ondownload(fig, format);\n}\n\n\nmpl.figure.prototype.handle_resize = function(fig, msg) {\n    var size = msg['size'];\n    if (size[0] != fig.canvas.width || size[1] != fig.canvas.height) {\n        fig._resize_canvas(size[0], size[1]);\n        fig.send_message(\"refresh\", {});\n    };\n}\n\nmpl.figure.prototype.handle_rubberband = function(fig, msg) {\n    var x0 = msg['x0'] / mpl.ratio;\n    var y0 = (fig.canvas.height - msg['y0']) / mpl.ratio;\n    var x1 = msg['x1'] / mpl.ratio;\n    var y1 = (fig.canvas.height - msg['y1']) / mpl.ratio;\n    x0 = Math.floor(x0) + 0.5;\n    y0 = Math.floor(y0) + 0.5;\n    x1 = Math.floor(x1) + 0.5;\n    y1 = Math.floor(y1) + 0.5;\n    var min_x = Math.min(x0, x1);\n    var min_y = Math.min(y0, y1);\n    var width = Math.abs(x1 - x0);\n    var height = Math.abs(y1 - y0);\n\n    fig.rubberband_context.clearRect(\n        0, 0, fig.canvas.width / mpl.ratio, fig.canvas.height / mpl.ratio);\n\n    fig.rubberband_context.strokeRect(min_x, min_y, width, height);\n}\n\nmpl.figure.prototype.handle_figure_label = function(fig, msg) {\n    // Updates the figure title.\n    fig.header.textContent = msg['label'];\n}\n\nmpl.figure.prototype.handle_cursor = function(fig, msg) {\n    var cursor = msg['cursor'];\n    switch(cursor)\n    {\n    case 0:\n        cursor = 'pointer';\n        break;\n    case 1:\n        cursor = 'default';\n        break;\n    case 2:\n        cursor = 'crosshair';\n        break;\n    case 3:\n        cursor = 'move';\n        break;\n    }\n    fig.rubberband_canvas.style.cursor = cursor;\n}\n\nmpl.figure.prototype.handle_message = function(fig, msg) {\n    fig.message.textContent = msg['message'];\n}\n\nmpl.figure.prototype.handle_draw = function(fig, msg) {\n    // Request the server to send over a new figure.\n    fig.send_draw_message();\n}\n\nmpl.figure.prototype.handle_image_mode = function(fig, msg) {\n    fig.image_mode = msg['mode'];\n}\n\nmpl.figure.prototype.updated_canvas_event = function() {\n    // Called whenever the canvas gets updated.\n    this.send_message(\"ack\", {});\n}\n\n// A function to construct a web socket function for onmessage handling.\n// Called in the figure constructor.\nmpl.figure.prototype._make_on_message_function = function(fig) {\n    return function socket_on_message(evt) {\n        if (evt.data instanceof Blob) {\n            /* FIXME: We get \"Resource interpreted as Image but\n             * transferred with MIME type text/plain:\" errors on\n             * Chrome.  But how to set the MIME type?  It doesn't seem\n             * to be part of the websocket stream */\n            evt.data.type = \"image/png\";\n\n            /* Free the memory for the previous frames */\n            if (fig.imageObj.src) {\n                (window.URL || window.webkitURL).revokeObjectURL(\n                    fig.imageObj.src);\n            }\n\n            fig.imageObj.src = (window.URL || window.webkitURL).createObjectURL(\n                evt.data);\n            fig.updated_canvas_event();\n            fig.waiting = false;\n            return;\n        }\n        else if (typeof evt.data === 'string' && evt.data.slice(0, 21) == \"data:image/png;base64\") {\n            fig.imageObj.src = evt.data;\n            fig.updated_canvas_event();\n            fig.waiting = false;\n            return;\n        }\n\n        var msg = JSON.parse(evt.data);\n        var msg_type = msg['type'];\n\n        // Call the  \"handle_{type}\" callback, which takes\n        // the figure and JSON message as its only arguments.\n        try {\n            var callback = fig[\"handle_\" + msg_type];\n        } catch (e) {\n            console.log(\"No handler for the '\" + msg_type + \"' message type: \", msg);\n            return;\n        }\n\n        if (callback) {\n            try {\n                // console.log(\"Handling '\" + msg_type + \"' message: \", msg);\n                callback(fig, msg);\n            } catch (e) {\n                console.log(\"Exception inside the 'handler_\" + msg_type + \"' callback:\", e, e.stack, msg);\n            }\n        }\n    };\n}\n\n// from http://stackoverflow.com/questions/1114465/getting-mouse-location-in-canvas\nmpl.findpos = function(e) {\n    //this section is from http://www.quirksmode.org/js/events_properties.html\n    var targ;\n    if (!e)\n        e = window.event;\n    if (e.target)\n        targ = e.target;\n    else if (e.srcElement)\n        targ = e.srcElement;\n    if (targ.nodeType == 3) // defeat Safari bug\n        targ = targ.parentNode;\n\n    // jQuery normalizes the pageX and pageY\n    // pageX,Y are the mouse positions relative to the document\n    // offset() returns the position of the element relative to the document\n    var x = e.pageX - $(targ).offset().left;\n    var y = e.pageY - $(targ).offset().top;\n\n    return {\"x\": x, \"y\": y};\n};\n\n/*\n * return a copy of an object with only non-object keys\n * we need this to avoid circular references\n * http://stackoverflow.com/a/24161582/3208463\n */\nfunction simpleKeys (original) {\n  return Object.keys(original).reduce(function (obj, key) {\n    if (typeof original[key] !== 'object')\n        obj[key] = original[key]\n    return obj;\n  }, {});\n}\n\nmpl.figure.prototype.mouse_event = function(event, name) {\n    var canvas_pos = mpl.findpos(event)\n\n    if (name === 'button_press')\n    {\n        this.canvas.focus();\n        this.canvas_div.focus();\n    }\n\n    var x = canvas_pos.x * mpl.ratio;\n    var y = canvas_pos.y * mpl.ratio;\n\n    this.send_message(name, {x: x, y: y, button: event.button,\n                             step: event.step,\n                             guiEvent: simpleKeys(event)});\n\n    /* This prevents the web browser from automatically changing to\n     * the text insertion cursor when the button is pressed.  We want\n     * to control all of the cursor setting manually through the\n     * 'cursor' event from matplotlib */\n    event.preventDefault();\n    return false;\n}\n\nmpl.figure.prototype._key_event_extra = function(event, name) {\n    // Handle any extra behaviour associated with a key event\n}\n\nmpl.figure.prototype.key_event = function(event, name) {\n\n    // Prevent repeat events\n    if (name == 'key_press')\n    {\n        if (event.which === this._key)\n            return;\n        else\n            this._key = event.which;\n    }\n    if (name == 'key_release')\n        this._key = null;\n\n    var value = '';\n    if (event.ctrlKey && event.which != 17)\n        value += \"ctrl+\";\n    if (event.altKey && event.which != 18)\n        value += \"alt+\";\n    if (event.shiftKey && event.which != 16)\n        value += \"shift+\";\n\n    value += 'k';\n    value += event.which.toString();\n\n    this._key_event_extra(event, name);\n\n    this.send_message(name, {key: value,\n                             guiEvent: simpleKeys(event)});\n    return false;\n}\n\nmpl.figure.prototype.toolbar_button_onclick = function(name) {\n    if (name == 'download') {\n        this.handle_save(this, null);\n    } else {\n        this.send_message(\"toolbar_button\", {name: name});\n    }\n};\n\nmpl.figure.prototype.toolbar_button_onmouseover = function(tooltip) {\n    this.message.textContent = tooltip;\n};\nmpl.toolbar_items = [[\"Home\", \"Reset original view\", \"fa fa-home icon-home\", \"home\"], [\"Back\", \"Back to previous view\", \"fa fa-arrow-left icon-arrow-left\", \"back\"], [\"Forward\", \"Forward to next view\", \"fa fa-arrow-right icon-arrow-right\", \"forward\"], [\"\", \"\", \"\", \"\"], [\"Pan\", \"Pan axes with left mouse, zoom with right\", \"fa fa-arrows icon-move\", \"pan\"], [\"Zoom\", \"Zoom to rectangle\", \"fa fa-square-o icon-check-empty\", \"zoom\"], [\"\", \"\", \"\", \"\"], [\"Download\", \"Download plot\", \"fa fa-floppy-o icon-save\", \"download\"]];\n\nmpl.extensions = [\"eps\", \"pdf\", \"png\", \"ps\", \"raw\", \"svg\"];\n\nmpl.default_extension = \"png\";var comm_websocket_adapter = function(comm) {\n    // Create a \"websocket\"-like object which calls the given IPython comm\n    // object with the appropriate methods. Currently this is a non binary\n    // socket, so there is still some room for performance tuning.\n    var ws = {};\n\n    ws.close = function() {\n        comm.close()\n    };\n    ws.send = function(m) {\n        //console.log('sending', m);\n        comm.send(m);\n    };\n    // Register the callback with on_msg.\n    comm.on_msg(function(msg) {\n        //console.log('receiving', msg['content']['data'], msg);\n        // Pass the mpl event to the overridden (by mpl) onmessage function.\n        ws.onmessage(msg['content']['data'])\n    });\n    return ws;\n}\n\nmpl.mpl_figure_comm = function(comm, msg) {\n    // This is the function which gets called when the mpl process\n    // starts-up an IPython Comm through the \"matplotlib\" channel.\n\n    var id = msg.content.data.id;\n    // Get hold of the div created by the display call when the Comm\n    // socket was opened in Python.\n    var element = $(\"#\" + id);\n    var ws_proxy = comm_websocket_adapter(comm)\n\n    function ondownload(figure, format) {\n        window.open(figure.imageObj.src);\n    }\n\n    var fig = new mpl.figure(id, ws_proxy,\n                           ondownload,\n                           element.get(0));\n\n    // Call onopen now - mpl needs it, as it is assuming we've passed it a real\n    // web socket which is closed, not our websocket->open comm proxy.\n    ws_proxy.onopen();\n\n    fig.parent_element = element.get(0);\n    fig.cell_info = mpl.find_output_cell(\"<div id='\" + id + \"'></div>\");\n    if (!fig.cell_info) {\n        console.error(\"Failed to find cell for figure\", id, fig);\n        return;\n    }\n\n    var output_index = fig.cell_info[2]\n    var cell = fig.cell_info[0];\n\n};\n\nmpl.figure.prototype.handle_close = function(fig, msg) {\n    var width = fig.canvas.width/mpl.ratio\n    fig.root.unbind('remove')\n\n    // Update the output cell to use the data from the current canvas.\n    fig.push_to_output();\n    var dataURL = fig.canvas.toDataURL();\n    // Re-enable the keyboard manager in IPython - without this line, in FF,\n    // the notebook keyboard shortcuts fail.\n    IPython.keyboard_manager.enable()\n    $(fig.parent_element).html('<img src=\"' + dataURL + '\" width=\"' + width + '\">');\n    fig.close_ws(fig, msg);\n}\n\nmpl.figure.prototype.close_ws = function(fig, msg){\n    fig.send_message('closing', msg);\n    // fig.ws.close()\n}\n\nmpl.figure.prototype.push_to_output = function(remove_interactive) {\n    // Turn the data on the canvas into data in the output cell.\n    var width = this.canvas.width/mpl.ratio\n    var dataURL = this.canvas.toDataURL();\n    this.cell_info[1]['text/html'] = '<img src=\"' + dataURL + '\" width=\"' + width + '\">';\n}\n\nmpl.figure.prototype.updated_canvas_event = function() {\n    // Tell IPython that the notebook contents must change.\n    IPython.notebook.set_dirty(true);\n    this.send_message(\"ack\", {});\n    var fig = this;\n    // Wait a second, then push the new image to the DOM so\n    // that it is saved nicely (might be nice to debounce this).\n    setTimeout(function () { fig.push_to_output() }, 1000);\n}\n\nmpl.figure.prototype._init_toolbar = function() {\n    var fig = this;\n\n    var nav_element = $('<div/>');\n    nav_element.attr('style', 'width: 100%');\n    this.root.append(nav_element);\n\n    // Define a callback function for later on.\n    function toolbar_event(event) {\n        return fig.toolbar_button_onclick(event['data']);\n    }\n    function toolbar_mouse_event(event) {\n        return fig.toolbar_button_onmouseover(event['data']);\n    }\n\n    for(var toolbar_ind in mpl.toolbar_items){\n        var name = mpl.toolbar_items[toolbar_ind][0];\n        var tooltip = mpl.toolbar_items[toolbar_ind][1];\n        var image = mpl.toolbar_items[toolbar_ind][2];\n        var method_name = mpl.toolbar_items[toolbar_ind][3];\n\n        if (!name) { continue; };\n\n        var button = $('<button class=\"btn btn-default\" href=\"#\" title=\"' + name + '\"><i class=\"fa ' + image + ' fa-lg\"></i></button>');\n        button.click(method_name, toolbar_event);\n        button.mouseover(tooltip, toolbar_mouse_event);\n        nav_element.append(button);\n    }\n\n    // Add the status bar.\n    var status_bar = $('<span class=\"mpl-message\" style=\"text-align:right; float: right;\"/>');\n    nav_element.append(status_bar);\n    this.message = status_bar[0];\n\n    // Add the close button to the window.\n    var buttongrp = $('<div class=\"btn-group inline pull-right\"></div>');\n    var button = $('<button class=\"btn btn-mini btn-primary\" href=\"#\" title=\"Stop Interaction\"><i class=\"fa fa-power-off icon-remove icon-large\"></i></button>');\n    button.click(function (evt) { fig.handle_close(fig, {}); } );\n    button.mouseover('Stop Interaction', toolbar_mouse_event);\n    buttongrp.append(button);\n    var titlebar = this.root.find($('.ui-dialog-titlebar'));\n    titlebar.prepend(buttongrp);\n}\n\nmpl.figure.prototype._root_extra_style = function(el){\n    var fig = this\n    el.on(\"remove\", function(){\n\tfig.close_ws(fig, {});\n    });\n}\n\nmpl.figure.prototype._canvas_extra_style = function(el){\n    // this is important to make the div 'focusable\n    el.attr('tabindex', 0)\n    // reach out to IPython and tell the keyboard manager to turn it's self\n    // off when our div gets focus\n\n    // location in version 3\n    if (IPython.notebook.keyboard_manager) {\n        IPython.notebook.keyboard_manager.register_events(el);\n    }\n    else {\n        // location in version 2\n        IPython.keyboard_manager.register_events(el);\n    }\n\n}\n\nmpl.figure.prototype._key_event_extra = function(event, name) {\n    var manager = IPython.notebook.keyboard_manager;\n    if (!manager)\n        manager = IPython.keyboard_manager;\n\n    // Check for shift+enter\n    if (event.shiftKey && event.which == 13) {\n        this.canvas_div.blur();\n        // select the cell after this one\n        var index = IPython.notebook.find_cell_index(this.cell_info[0]);\n        IPython.notebook.select(index + 1);\n    }\n}\n\nmpl.figure.prototype.handle_save = function(fig, msg) {\n    fig.ondownload(fig, null);\n}\n\n\nmpl.find_output_cell = function(html_output) {\n    // Return the cell and output element which can be found *uniquely* in the notebook.\n    // Note - this is a bit hacky, but it is done because the \"notebook_saving.Notebook\"\n    // IPython event is triggered only after the cells have been serialised, which for\n    // our purposes (turning an active figure into a static one), is too late.\n    var cells = IPython.notebook.get_cells();\n    var ncells = cells.length;\n    for (var i=0; i<ncells; i++) {\n        var cell = cells[i];\n        if (cell.cell_type === 'code'){\n            for (var j=0; j<cell.output_area.outputs.length; j++) {\n                var data = cell.output_area.outputs[j];\n                if (data.data) {\n                    // IPython >= 3 moved mimebundle to data attribute of output\n                    data = data.data;\n                }\n                if (data['text/html'] == html_output) {\n                    return [cell, data, j];\n                }\n            }\n        }\n    }\n}\n\n// Register the function which deals with the matplotlib target/channel.\n// The kernel may be null if the page has been refreshed.\nif (IPython.notebook.kernel != null) {\n    IPython.notebook.kernel.comm_manager.register_target('matplotlib', mpl.mpl_figure_comm);\n}\n",
      "text/plain": [
       "<IPython.core.display.Javascript object>"
      ]
     },
     "metadata": {},
     "output_type": "display_data"
    },
    {
     "data": {
      "text/html": [
       "<div id='d86c1433-9be1-4932-a352-97dc019da2c0'></div>"
      ],
      "text/plain": [
       "<IPython.core.display.HTML object>"
      ]
     },
     "metadata": {},
     "output_type": "display_data"
    }
   ],
   "source": [
    "x = []\n",
    "y = []\n",
    "for i in range(len(theta1seq)):\n",
    "    jointPoses = (theta1seq[i], theta2seq[i], theta3seq[i])\n",
    "    for j in range(numJoints-1): # last joint is a dummy joint (fixed end-effector)\n",
    "        p.resetJointState(robot_id,j,jointPoses[j])\n",
    "    x.append(p.getLinkState(robot_id,3)[0][0])\n",
    "    y.append(p.getLinkState(robot_id,3)[0][1])\n",
    "fig, axnstd = plt.subplots(figsize=(10, 10))\n",
    "pl.plot(x,y,'b-')\n",
    "axnstd.set_aspect(\"equal\")"
   ]
  },
  {
   "cell_type": "code",
   "execution_count": 24,
   "metadata": {},
   "outputs": [],
   "source": [
    "p.disconnect() # end of exercise"
   ]
  },
  {
   "cell_type": "markdown",
   "metadata": {},
   "source": [
    "### Brain teasers  (optional)\n",
    "\n",
    "**Question/exercise** \n",
    "\n",
    "(a) What is the workspace of the robot, i.e. the points in the plane accessible by the end-effector ?\n",
    "(If you want you can explore this in simulation, by exploring all the joint angle values)\n",
    "\n",
    "(b) Comment on the lengths $L_1, L_2, L_3$ of the links: What could have motivated this choice? If we want to make one link longer, which one(s) should it be?"
   ]
  },
  {
   "cell_type": "markdown",
   "metadata": {},
   "source": [
    "## Exercise 2: Inverse kinematics with the DH method\n",
    "\n",
    "During the lectures we have seen that doing inverse kinematics on the basis of specified positions can be a difficult, nonlinear problem; but, doing inverse kinematics on the basis of specified *velocities* becomes easy and linear.\n",
    "\n",
    "Here we apply this velocity-based approach to the planar robot arm of Exercise 1. The principle is thus to say: \n",
    "- we are in a situation with *given* angles $\\theta_1, \\theta_2, \\theta_3$\n",
    "- from there, a target velocity is specified for the end-effector\n",
    "- we have to translate this target velocity into velocities $u_i = d\\theta_i/dt$ for the joint angles\n",
    "\n",
    "### A. Setting up the velocity-based inverse kinematics\n",
    "\n",
    "We start by writing the kinematics as a relation \n",
    "\\begin{equation*}\n",
    "A * x = b \\tag{1}\n",
    "\\end{equation*}\n",
    "where $x$ contains the joint velocities $u_i = d\\theta_i/dt$ (i=1,2,3) and $b$ contains the target veclotiy of the end-effector ($\\frac{d}{dt}pos_x$ and $\\frac{d}{dt}p_y$). Thus $A$ will be a 2-by-3 matrix, expressing that there are 2 equations for 3 unknowns, i.e. the linear system is under-specified.\n",
    "\n",
    "Physically, this under-specification expresses that we have 3 joints, while 2 joints would be enough to displace the end-effector locally both in $x$ and $y$ coordinates. Due to the additional joint, there are several ways to make the end-effector perform a particular movement, and we have to choose one. From a computational standpoint, there are various ways to treat this. To just obtain a solution to $A * x = b$ in python, where $x$ and $b$ do not have the same dimension, you can use the command np.linalg.lstsq(A, b, rcond=None)[0].\n",
    "(See brain teaser for further thoughts about this.)\n",
    "\n",
    "\n",
    "**Question/exercise**\n",
    "- From your Geometric Model of Exercise 1, compute the relation between joint angle velocities and end-effector velocities; express it in the form (1).\n",
    "- Write a routine which inverts the relation (1) in order to help compute inverse kinematics. Take care about the inputs which it must have. \n"
   ]
  },
  {
   "cell_type": "code",
   "execution_count": 60,
   "metadata": {},
   "outputs": [],
   "source": [
    "def PlanarIK_geom(jointconf,eevel):\n",
    "    # jointconf contains the current joint configuration\n",
    "    #  (since the A matrix will depend on it)\n",
    "    # eevel contains the velocities which we want to achieve on the end effector\n",
    "\n",
    "    \n",
    "    # lengths\n",
    "    L1=6\n",
    "    L2=4\n",
    "    L3=2\n",
    "\n",
    "    #HERE THE SOLUTION\n",
    "\n",
    "    theta1 = jointconf[0]\n",
    "    theta2 = jointconf[1]\n",
    "    theta3 = jointconf[2]\n",
    "\n",
    "    #pos_x = L1*np.cos(theta1) + L2*np.cos(theta1+ theta2) + L3*np.cos(theta1+ theta2 + theta3)\n",
    "    #pos_y = L1*np.sin(theta1) + L2*np.sin(theta1+ theta2) + L3*np.sin(theta1+ theta2 + theta3)\n",
    "\n",
    "    dpxdth1 = -L1*np.sin(theta1) - L2*np.sin(theta1+theta2)- L3*np.sin(theta1+theta2+theta3)\n",
    "    dpxdth2 = - L2*np.sin(theta1+theta2)- L3*np.sin(theta1+theta2+theta3)\n",
    "    dpxdth3 = - L3*np.sin(theta1+theta2+theta3)\n",
    "\n",
    "    dpydth1 = L1*np.cos(theta1) + L2*np.cos(theta1+theta2) + L3*np.cos(theta1+theta2+theta3)\n",
    "    dpydth2 = L2*np.cos(theta1+theta2) + L3*np.cos(theta1+theta2+theta3)\n",
    "    dpydth3 = L3*np.cos(theta1+theta2+theta3)\n",
    "    \n",
    "    A = np.array([[dpxdth1,dpxdth2 ,dpxdth3],[dpydth1,dpydth2 ,dpydth3]])\n",
    "    \n",
    "    uvector = np.linalg.lstsq(A,eevel,rcond=None)[0]\n",
    "\n",
    "    \n",
    "    return uvector\n",
    "    "
   ]
  },
  {
   "cell_type": "markdown",
   "metadata": {},
   "source": [
    "For more complicated robot arms, the \"by-hand\" geometric modeling becomes cumbersome, so a more systematic approach uses the DH framework. The velocity-based modeling also takes a systematic form in this DH framework. Indeed, we recall that \n",
    "\\begin{eqnarray}\n",
    "\\tfrac{d}{dt} g_{0,4} &=& \\tfrac{d}{dt}\\left( g_{0,1}(\\theta_1) * g_{1,2}(\\theta_2) * g_{2,3}(\\theta_3) * g_{3,4} \\right)\\\\\n",
    "&=& u_1 \\; \\frac{dg_{0,1}}{d\\theta_1} * g_{1,2}(\\theta_2) * g_{2,3}(\\theta_3) * g_{3,4} + u_2 \\; g_{0,1}(\\theta_1) * \\frac{dg_{1,2}}{d\\theta_2} * g_{2,3}(\\theta_3) * g_{3,4} + u_3 \\; g_{0,1}(\\theta_1) * g_{1,2} * \\frac{dg_{2,3}}{d\\theta_3} * g_{3,4}\n",
    "\\end{eqnarray}\n",
    "where the derivative of a basis transformation matrix \n",
    "\\begin{equation}\n",
    "\\mathrm{g}(\\alpha,p) = \n",
    "\\begin{bmatrix} \n",
    "\\cos(\\alpha) & -\\sin(\\alpha) & p_x \\\\\n",
    "\\sin(\\alpha) & \\cos(\\alpha) & p_y \\\\\n",
    "0 & 0 & 1 \n",
    "\\end{bmatrix} \\;\\; \n",
    "\\end{equation}\n",
    "with respect to the rotation angle takes the systematic form:\n",
    "\\begin{equation}\n",
    "\\tfrac{d}{d\\alpha} \\mathrm{g}(\\alpha,p) = \\mathrm{g}(\\alpha,p) *\n",
    "\\begin{bmatrix} \n",
    "0 & -1 & 0 \\\\\n",
    "1 & 0 & 0 \\\\\n",
    "0 & 0 & 0 \n",
    "\\end{bmatrix} \\;\\; .\n",
    "\\end{equation}\n",
    "\n",
    "**Question/exercise**\n",
    "- Use the DH relations to compute the relation between joint angle velocities and end-effector velocities; express it in the form (1).\n",
    "- Write a routine on that basis, which inverts the relation (1) in order to help compute inverse kinematics."
   ]
  },
  {
   "cell_type": "code",
   "execution_count": 26,
   "metadata": {},
   "outputs": [],
   "source": [
    "def PlanarIK_DH(jointconf,eevel):\n",
    "    # jointconf contains the current joint configuration\n",
    "    #  (since the A matrix will depend on it)\n",
    "    # eevel contains the velocities which we want to achieve on the end effector\n",
    "\n",
    "    # lengths\n",
    "    L1=6\n",
    "    L2=4\n",
    "    L3=2\n",
    "\n",
    "    #HERE THE SOLUTION\n",
    "    theta1 = jointconf[0]\n",
    "    theta2 = jointconf[1]\n",
    "    theta3 = jointconf[2]\n",
    "\n",
    "    \"\"\"\"\n",
    "    g01 = np.array([[c1, -s1, 0],\n",
    "                  [s1, c1,  0],\n",
    "                  [0,0,1]])\n",
    "    g12 = np.array([[c2, -s2, L1],\n",
    "                  [s2, c2,  0],\n",
    "                  [0,0,1]])\n",
    "    g23 = np.array([[c3,-s3,L2],\n",
    "                    [s3,c3,0],\n",
    "                    [0,0,0]])\n",
    "    g34 = np.array([[1,0,L3],\n",
    "                    [0,1,0],\n",
    "                    [0,0,1]])\n",
    "    \"\"\"\n",
    "\n",
    "    dg01 = np.array([0,-1,0],\n",
    "                    [1,0,0],\n",
    "                    [0,0,0])\n",
    "    dg12 = np.array([0,-1,0],\n",
    "                    [1,0,0],\n",
    "                    [0,0,0])\n",
    "    dg23 = np.array()\n",
    "    dg34 = np.array()\n",
    "\n",
    "\n",
    "    \n",
    "    return uvector\n"
   ]
  },
  {
   "cell_type": "markdown",
   "metadata": {},
   "source": [
    "Of course the result should be the same with both ways of modeling. We can check this by printing the solution for a few particular assignments. We can also plot the robot configuration which would result from applying the coputed joint velocities for a short time step $dt$: just compute the resulting $\\theta_i(t+dt) = \\theta_i(t) + dt * u_i$ and use the direct kinematics routine to plot both configurations.\n",
    "\n",
    "The latter is probably the best way to check, because the inversion of the underspecified equation $A*x=b$ can involve different combinations of all 3 joints moving.\n",
    "\n",
    "**Question/exercise**\n",
    "- Check that both routines do work by testing which joint velocities they compute for a few particular assignments.\n",
    "- *NB*: some specific configurations present *kinematic singularities*, where the equation $A*x=b$ cannot be solved. This is the case among others at the point $\\theta_1=\\theta_2=\\theta_3=0$. Thus, try to avoid these points. Points like $\\theta_1=\\theta_2=0$ and $\\theta_3=\\pi/2$ are intuitive enough to check, and nonsingular."
   ]
  },
  {
   "cell_type": "code",
   "execution_count": 27,
   "metadata": {},
   "outputs": [
    {
     "ename": "NameError",
     "evalue": "name 'uvector' is not defined",
     "output_type": "error",
     "traceback": [
      "\u001b[0;31m---------------------------------------------------------------------------\u001b[0m",
      "\u001b[0;31mNameError\u001b[0m                                 Traceback (most recent call last)",
      "Cell \u001b[0;32mIn [27], line 10\u001b[0m\n\u001b[1;32m      5\u001b[0m eeveltest\u001b[39m=\u001b[39mnp\u001b[39m.\u001b[39marray([\u001b[39m-\u001b[39m\u001b[39m1\u001b[39m,\u001b[39m0\u001b[39m])\n\u001b[1;32m      8\u001b[0m \u001b[39m# NO CHANGE NEEDED FROM HERE\u001b[39;00m\n\u001b[1;32m      9\u001b[0m \u001b[39m# Solving the velocity-based InvKin\u001b[39;00m\n\u001b[0;32m---> 10\u001b[0m uvecsGeom\u001b[39m=\u001b[39mPlanarIK_geom(thetatest,eeveltest)\n\u001b[1;32m     11\u001b[0m uvecsDH\u001b[39m=\u001b[39mPlanarIK_DH(thetatest,eeveltest)\n\u001b[1;32m     13\u001b[0m \u001b[39m# printing the joint velocities computed\u001b[39;00m\n",
      "Cell \u001b[0;32mIn [25], line 16\u001b[0m, in \u001b[0;36mPlanarIK_geom\u001b[0;34m(jointconf, eevel)\u001b[0m\n\u001b[1;32m     10\u001b[0m L3\u001b[39m=\u001b[39m\u001b[39m2\u001b[39m\n\u001b[1;32m     12\u001b[0m \u001b[39m#HERE THE SOLUTION\u001b[39;00m\n\u001b[0;32m---> 16\u001b[0m \u001b[39mreturn\u001b[39;00m uvector\n",
      "\u001b[0;31mNameError\u001b[0m: name 'uvector' is not defined"
     ]
    }
   ],
   "source": [
    "# Checking tool, provided to you\n",
    "\n",
    "# HERE, CHANGE THESE VALUES OF INITIAL CONFIGURATION AND OF VELOCITY ASSIGNMENT\n",
    "thetatest=np.array([0,0,np.pi/2])\n",
    "eeveltest=np.array([-1,0])\n",
    "\n",
    "\n",
    "# NO CHANGE NEEDED FROM HERE\n",
    "# Solving the velocity-based InvKin\n",
    "uvecsGeom=PlanarIK_geom(thetatest,eeveltest)\n",
    "uvecsDH=PlanarIK_DH(thetatest,eeveltest)\n",
    "\n",
    "# printing the joint velocities computed\n",
    "print(uvecsGeom)\n",
    "print(uvecsDH)\n",
    "\n",
    "# Showing the motion that this would imply\n",
    "# starting point is a circle, end-point after dt=0.1 is a star\n",
    "thetaGtest=thetatest+0.1*uvecsGeom\n",
    "thetaDHtest=thetatest+0.1*uvecsDH\n",
    "\n",
    "C1=geometric_planar(thetatest[0], thetatest[1], thetatest[2])\n",
    "C2=geometric_planar(thetaGtest[0], thetaGtest[1], thetaGtest[2])\n",
    "C3=geometric_planar(thetaDHtest[0], thetaDHtest[1], thetaDHtest[2])\n",
    "\n",
    "# showing Geometric inversion\n",
    "fig, axnstd = plt.subplots(figsize=(8,8))\n",
    "pl.plot(C1[0],C1[1],'go')\n",
    "pl.plot(C2[0],C2[1],'g*')\n",
    "\n",
    "# just to force showing an equal window (cleaner ways exist)\n",
    "pl.plot(C1[0]-0.5,C1[1]-0.5,'wo')\n",
    "pl.plot(C1[0]+0.5,C1[1]+0.5,'wo')\n",
    "axnstd.set_aspect(\"equal\")\n",
    "\n",
    "# showing DH inversion\n",
    "fig, axnstd = plt.subplots(figsize=(8,8))\n",
    "pl.plot(C1[0],C1[1],'ro')\n",
    "pl.plot(C3[0],C3[1],'r*')\n",
    "\n",
    "# just to force showing an equal window (cleaner ways exist)\n",
    "pl.plot(C1[0]-0.5,C1[1]-0.5,'wo')\n",
    "pl.plot(C1[0]+0.5,C1[1]+0.5,'wo')\n",
    "axnstd.set_aspect(\"equal\")\n"
   ]
  },
  {
   "cell_type": "markdown",
   "metadata": {},
   "source": [
    "### B.  Following a prescribed end-effector trajectory\n",
    "\n",
    "The first part of this exercise has provided a code to compute joint velocities which implement a prescribed end-effector velocity.  Usually, the task is rather specified as a sequence of positions for the end-effector.\n",
    "\n",
    "A simple approach to follow such a trajectory with the velocity-based inverse kinematics repeats the following steps:\n",
    "1. At step $k$, compute the *actual* end-effector position $pr(k)$, with direct kinematics formulas using the $\\theta(k)_i$. Denote $p(k+1)$ the end-effector position which we are requested to reach at $k+1$.\n",
    "2. Define $b(k) = c* \\frac{p(k+1)-pr(k)}{dt}$ the target velocity of the end-effector for step $k$, with $c$ a constant close to $1$.\n",
    "3. Compute the joint velocities $u(k)$ associated to $b(k)$ with the velocity-based inverse kinematics routine that you have just programmed.\n",
    "4. Apply $u(k)$ as actual joint velocities for a time $dt$. Thus the actual configuration $pr(k+1)$ at step $k+1$ will correspond to joint angles $\\theta(k+1)_i = \\theta(k)_i + u(k)_i * dt$  for all $i$.\n",
    "\n",
    "Note that the *actual* end-effector position $pr(k+1)$ reached in this way will differ from the target position $p(k+1)$ by some discretization error, because the velocity-based inverse kinematics is only exact in the limit where $dt$ becomes infinitesimal. It is therefore important to check, at each step $k$, where we *actually* are and to move from there towards the next target point. The value of $c$ allows you to select how \"agressively\" you move towards the target trajectory: by taking $c<1$, you will always slightly lag behind, but you will likely obtain a smoother and more stable motion."
   ]
  },
  {
   "cell_type": "markdown",
   "metadata": {},
   "source": [
    "**Question/exercise** \n",
    "\n",
    "- Write the (short) routine which implements the above four steps\n",
    "- Next make a first check of this position-tracking program: request the end-effector to stay at a constant position (x,y), different from its initial position. Check how the program that you have just written computes the corresponding joint values. You should see that the actual position progressively converges towards the target one, as the program progressively reduces the discretization error in the inverse kinematics. Check how this convergence depends on the value of $c$, by taking it somewhat larger or smaller than 1.\n",
    "- Finally, ask the robot to draw some geometric shapes on the plane (circle, square,...). You should thus specify a sequence of $(x,y)(t)$ values for the end-effector and let your program the function PlanarIK_traj that you have just written compute the corresponding sequence of joint values.\n",
    "\n",
    "\n",
    "**Hints:**\n",
    "1. *Like in previous labs, we can use time units such that $dt=1$.*\n",
    "2. *Make sure to ask drawings which stay within the accessible robot workspace!*\n",
    "3. *You can play with the number of steps taken to draw the shape, and with the value of $c$ in the stabilization velocity assignment. If you take too big end-effector steps at once, then the performance will likely be bad. The trajectory might even diverge away from the target unless $c<1$ is taken small enough. Check this out first on stabilizing a fixed point.*\n",
    "4. *To draw a polygon, you can just specify the edges and use an interpolation routine like*  np.interp  *to compute intermediate waypoints.*"
   ]
  },
  {
   "cell_type": "code",
   "execution_count": null,
   "metadata": {},
   "outputs": [],
   "source": [
    "def PlanarIK_traj(jconfig,eetarget):\n",
    "    # jconfig contains the actual values of the joints before the motion\n",
    "    # eetarget is the position that the end-effector should reach after the motion\n",
    "\n",
    "    # segment lengths\n",
    "    L1=6\n",
    "    L2=4\n",
    "    L3=2\n",
    "    # Algorithm parameters\n",
    "    c=0.75\n",
    "\n",
    "    # HERE YOUR SOLUTION\n",
    "    # Get initial joint values\n",
    "    \n",
    "    # 1. Compute current end-effector position\n",
    "    th1=jconfig[0]\n",
    "    ...\n",
    "    # 2. Defining end-effector velocity to be achieved\n",
    "    prx,pry = geometric_planar(th1,..)\n",
    "    # 3. Calling velocity-based inverse kinematics\n",
    "    bk = (eetarget-np.array([prx,pry]))*c\n",
    "    # 4. Computing new joint values\n",
    "    uvecs = PlanarIK_geom(jconfig)\n",
    "    jnew = jvonfig+uvecs\n",
    "\n",
    "    return jnew"
   ]
  },
  {
   "cell_type": "code",
   "execution_count": null,
   "metadata": {
    "scrolled": true
   },
   "outputs": [],
   "source": [
    "# CHECKING WITH SPECIFIED TRAJECTORY\n",
    "\n",
    "# segment lengths (just used for specifying drawings typically within their reach)\n",
    "L1=6\n",
    "L2=4\n",
    "L3=2\n",
    "\n",
    "\n",
    "# ADAPT THESE IF YOU LIKE\n",
    "# the default proposed here computes a particular shape \n",
    "# - once by specifying just corner points\n",
    "# - a second time by interpolating between them\n",
    "\n",
    "# Specify the initial state of the joints\n",
    "initconfig = np.array([0.3,-0.6,0])\n",
    "\n",
    "# this is the brute trajectory\n",
    "pos1 = np.array([[L1+L2+L3,0],[L1+L2+L3-0.2,0.1],[L1+L2+L3-0.4,0],[L1+L2+L3-1,0],[L1+L2+L3-1,0.5],[L1+L2+L3-2,0.5],[L1+L2+L3-2,0],[L1+L2+L3-3,0]])\n",
    "\n",
    "# specifying just corner points\n",
    "xpos1=pos1[:,0]\n",
    "ypos1=pos1[:,1]\n",
    "# interpolated trajectory: change Dt to change number of waypoints\n",
    "Delta_t=0.1\n",
    "tvals = np.arange(1, len(xpos1)+0.01, Delta_t)\n",
    "xpos2=np.interp(tvals,np.arange(1,len(xpos1)+0.01),xpos1)\n",
    "ypos2=np.interp(tvals,np.arange(1,len(ypos1)+0.01),ypos1)\n",
    "pos2=np.transpose(np.array([xpos2,ypos2]))\n",
    "\n",
    "\n",
    "\n",
    "# NO CHANGE FROM HERE  \n",
    "xcase1 = []\n",
    "ycase1 = []\n",
    "px, py = geometric_planar(initconfig[0],initconfig[1],initconfig[2])\n",
    "xcase1.append(px)\n",
    "ycase1.append(py)\n",
    "\n",
    "xcase2 = []\n",
    "ycase2 = []\n",
    "px, py = geometric_planar(initconfig[0],initconfig[1],initconfig[2])\n",
    "xcase2.append(px)\n",
    "ycase2.append(py)\n",
    "\n",
    "\n",
    "# Loop with first trajectory specification (few waypoints)\n",
    "nowconfig=initconfig\n",
    "for t in range(len(xpos1)):\n",
    "    # SOLUTION\n",
    "    targetpoint=np.array([xpos1[t], ypos1[t]])\n",
    "    nextconfig=PlanarIK_traj(nowconfig,targetpoint)    \n",
    "    nowconfig=nextconfig\n",
    "    # **\n",
    "    px, py = geometric_planar(nextconfig[0],nextconfig[1],nextconfig[2])\n",
    "    xcase1.append(px)\n",
    "    ycase1.append(py)\n",
    "\n",
    "# Loop with second trajectory specification (many waypoints)\n",
    "nowconfig=initconfig\n",
    "for t in range(len(xpos2)):\n",
    "    # SOLUTION\n",
    "    targetpoint=np.array([xpos2[t], ypos2[t]])\n",
    "    nextconfig=PlanarIK_traj(nowconfig,targetpoint)    \n",
    "    nowconfig=nextconfig\n",
    "    # **\n",
    "    px, py = geometric_planar(nextconfig[0],nextconfig[1],nextconfig[2])\n",
    "    xcase2.append(px)\n",
    "    ycase2.append(py)    \n",
    "    \n",
    "# Visualization    \n",
    "# In red, the trajectory obtained with few waypoints\n",
    "# In blue, the trajectory obtained with many waypoints\n",
    "# In black, the prescribed trajectory\n",
    "# In green, the initial position (just for reference)\n",
    "\n",
    "fig, axnstd = plt.subplots(figsize=(8,8))\n",
    "\n",
    "pl.plot(xcase1,ycase1,'ro')\n",
    "pl.plot(xcase1,ycase1,'r-')\n",
    "pl.plot(xcase2,ycase2,'bo')\n",
    "pl.plot(xcase2,ycase2,'b-')\n",
    "\n",
    "pl.plot(xpos1,ypos1,'k-')\n",
    "\n",
    "pl.plot(xcase1[0],ycase1[0],'go')\n",
    "\n",
    "\n"
   ]
  },
  {
   "cell_type": "markdown",
   "metadata": {},
   "source": [
    "### Brain teasers  (optional)\n",
    "\n",
    "**Question/exercise** \n",
    "\n",
    "(a) Check how the different segments of the robot move during this drawing. (For this, you can just ask the direct kinematics program of Ex.1 to provide a larger output: position not only of the end-effector, but also of some other frame origins.) Can you explain situations where it is beneficial to have 3 segments, instead of just 2 segments of length 6, even if we do not care about end-effector orientation?\n",
    "\n",
    "(b) Why do we have to avoid initializing with $\\theta_1=\\theta_2=\\theta_3=0$? Can you find the other problematic points of this robotic arm? Can you propose something to avoid such problematic points?\n",
    "\n",
    "(c) [Difficult] When following a trajectory, you will probably not be too happy about the result of the robot commands for large steps between waypoints. Can you come up with ideas to obtain a better inverse kinematics, other than taking small steps? "
   ]
  },
  {
   "cell_type": "code",
   "execution_count": null,
   "metadata": {},
   "outputs": [],
   "source": []
  },
  {
   "cell_type": "markdown",
   "metadata": {},
   "source": [
    "## Exercise 3: DH modeling for a more complicated robot arm\n",
    "\n",
    "\n",
    "In this exercise we will use the DH method to model a 7-degrees-of-freedom and 3-dimensional robotic arm made by KUKA. While Exercise 1 could still be solved rather quickly with trigonometry, this becomes much harder for the KUKA manipulator. The systematic DH method, in contrast, remains simple: the only real difference is that we are now facing 3D rotations, so we must select the rotation axis properly."
   ]
  },
  {
   "cell_type": "markdown",
   "metadata": {},
   "source": [
    "### KUKA iiwa\n",
    "\n",
    "The KUKA iiwa (intelligent industrial work assistant) is a 7-DOF articulated robot arm made by KUKA. It has been used for pick and place operations, measuring and testing as well as manufacturing. In general, 7-DOF articulated robot arms have been widely used for manipulating objects in a 6-DOF space (3 DOFs for position, 3 DOFs for orientation). The figure below shows a sketch of the robot. Some more information can be found at:\n",
    "http://www.oir.caltech.edu/twiki_oir/pub/Palomar/ZTF/KUKARoboticArmMaterial/Spez_LBR_iiwa_en.pdf\n",
    "\n",
    "![3R planar robot](./figs/figs.002.jpeg)\n",
    "\n",
    "The figure shows 8 frames (numbered 0 to 7) which can be used for DH modeling. The origin for frame 1 is at the same position as for frame 2, but frame 1 is attached to the left piece of the joint and frame 2 is attached to the right part; the two are thus related by $\\theta_2$. Similarly for the other joints. In the position shown on the figure, the joints 1,3,5,7 make rotations around the axis $z_0$ ($=z_1=z_3=z_5=z_7$ in this position). The joints 2,4,6 make rotations around the axis $y_0$ ($=z_2=-z_4=z_6$ in this position). The lengths of the segments between joints are given in the program below (e.g. $L_1=$Lf0th1+Lth1th2). \n",
    "\n",
    "#### Reminder about DH in 3-dimensional space\n",
    "Now the DH framework uses 4x4 matrices, where the 3-dimensional rotation matrix depends on the rotation axis.\n",
    "We recall that a rotation with $\\theta$ over the x, y and z axis respectively can be written as:\n",
    "\\begin{equation}\n",
    "g_{\\rightarrow}\\mathrm{rot}_x(\\theta) = \n",
    "\\begin{bmatrix} \n",
    "1 & 0 & 0 & 0 \\\\\n",
    "0 & \\cos(\\theta) & -\\sin(\\theta) & 0 \\\\\n",
    "0 & \\sin(\\theta) & \\cos(\\theta) & 0 \\\\\n",
    "0 & 0 & 0 & 1 \n",
    "\\end{bmatrix}\n",
    "\\end{equation}\n",
    "\n",
    "\\begin{equation}\n",
    "g_{\\rightarrow}\\mathrm{rot}_y(\\theta) = \n",
    "\\begin{bmatrix} \n",
    "\\cos(\\theta) & 0 & \\sin(\\theta) & 0 \\\\\n",
    "0 & 1 & 0 & 0 \\\\\n",
    "-\\sin(\\theta) & 0 & \\cos(\\theta) & 0 \\\\\n",
    "0 & 0 & 0 & 1 \n",
    "\\end{bmatrix}\n",
    "\\end{equation}\n",
    "\n",
    "\\begin{equation}\n",
    "g_{\\rightarrow}\\mathrm{rot}_z(\\theta) = \n",
    "\\begin{bmatrix} \n",
    "\\cos(\\theta) & -\\sin(\\theta) & 0 & 0 \\\\\n",
    "\\sin(\\theta) & \\cos(\\theta) & 0 & 0 \\\\\n",
    "0 & 0 & 1 & 0 \\\\\n",
    "0 & 0 & 0 & 1 \n",
    "\\end{bmatrix}\n",
    "\\end{equation}\n",
    "\n",
    "Translation by a vector $p$ is applied exactly as in 2-dimensional space, with:\n",
    "\\begin{equation}\n",
    "g_{\\rightarrow}\\mathrm{transl}(p) = \n",
    "\\begin{bmatrix} \n",
    "1 & 0 & 0 & p_x \\\\\n",
    "0 & 1 & 0 & p_y \\\\\n",
    "0 & 0 & 1 & p_z \\\\\n",
    "0 & 0 & 0 & 1 \n",
    "\\end{bmatrix}\n",
    "\\end{equation}\n"
   ]
  },
  {
   "cell_type": "markdown",
   "metadata": {},
   "source": [
    "### DH modeling\n",
    "\n",
    "**Question/exercise**  \n",
    "- Implement the DH modeling to compute the end-effector position and orientation as a function of the joint angles for the KUKA iiwa. Let the function give the end-effector position as an output.\n",
    "- Using the visualization tool below, validate your DH model by comparing its output to your intuitive reasoning, for a few \"particularly easy\" configurations (for instance angles being 0 or $\\pm$90°). You can also validate by comparing with the result of PyBullet.\n",
    "\n",
    "\n",
    "**Hints:**\n",
    " \n",
    "1. *The frames on the figure are just those chosen by some KUKA people on their documents. They are maybe not the most intuitive ones. Feel free to use other frames in your DH modeling if you prefer, but make sure to stay consistent!*\n",
    "2. *Sometimes the difference between two consecutive frames involves a combination of constant translation(s), constant rotation, and joint-dependent rotation. You may want to split this up into elementary steps, e.g. from frame 2 to frame 3: first a constant rotation, then a constant translation, then a $\\theta_3$-dependent rotation, then a constant translation; you can write individually the 4 matrices, corresponding to this succession of 4 elementary transformations, and the overall change from frame 2 to frame 3 will be given by their product.*\n",
    "3. *Take care about the orientation of the various angles: axis, **and sign**. If you use the Pybullet simulation for validation, you may have to check out with trial and error which signs they have chosen for the $\\theta_i$.*\n",
    "4. *If you keep the default visualization, note that the scales for x,y,z axes are chosen independently and can sometimes be quite extreme on some axes.*"
   ]
  },
  {
   "cell_type": "code",
   "execution_count": null,
   "metadata": {},
   "outputs": [],
   "source": [
    "def forward_kuka(theta):\n",
    "    # theta should be a row vector with the joint angles\n",
    "\n",
    "    # lengths (hopefully accurate?)\n",
    "    Lf0th1=0.1575\n",
    "    Lth1th2=0.2025\n",
    "    Lth2th3=0.2045\n",
    "    Lth3th4=0.2155\n",
    "    Lth4th5=0.1845\n",
    "    Lth5th6=0.2155\n",
    "    Lth6th7=0.081\n",
    "    Lth7f7=0.02  \n",
    "    # (\n",
    "    # for some reason i get a perfect match with PyBullet with this value, \n",
    "    # although the last link is reported Lth7f7=0.03\n",
    "    # I am not sure though where exactly they take the end-effector reference point\n",
    "    # )\n",
    "    \n",
    "    # YOUR SOLUTION HERE\n",
    "    \n",
    "\n",
    "    \n",
    "    return pos_x, pos_y, pos_z"
   ]
  },
  {
   "cell_type": "code",
   "execution_count": null,
   "metadata": {},
   "outputs": [],
   "source": [
    "# Visualization without PyBullet, printing output position\n",
    "\n",
    "# MODIFY THESE VALUES\n",
    "ThetaValues=np.array([0,0,0,0,0,0,0])\n",
    "\n",
    "# NO NEED TO TOUCH THE REST\n",
    "\n",
    "xo,yo,zo = forward_kuka(ThetaValues)    \n",
    "\n",
    "fig = pl.figure()\n",
    "ax = pl.axes(projection='3d')\n",
    "# enable next line if you want to force viewing the full state space\n",
    "#ax = pl.axes(xlim=[-1.4,1.4],ylim=[-1.4,1.4],zlim=[-1.4,1.4],projection='3d')\n",
    "ax.scatter(xo, yo, zo, marker='o')\n",
    "\n",
    "print(xo, yo, zo)"
   ]
  },
  {
   "cell_type": "code",
   "execution_count": null,
   "metadata": {},
   "outputs": [],
   "source": [
    "# Visualization with PyBullet, showing both\n",
    "\n",
    "# MODIFY THESE VALUES\n",
    "ThetaValues=np.array([0,0,0,0,0,0,0])\n",
    "\n",
    "\n",
    "# NO NEED TO TOUCH THE REST\n",
    "\n",
    "# your model output\n",
    "xo,yo,zo = forward_kuka(ThetaValues)    \n",
    "\n",
    "\n",
    "# initializing PyBullet\n",
    "physicsClient = p.connect(p.DIRECT) #or p.GUI for the graphical version\n",
    "\n",
    "#p.resetDebugVisualizerCamera(cameraDistance=20, cameraYaw=0, cameraPitch=-89, cameraTargetPosition=[0,0,1.0])\n",
    "p.resetDebugVisualizerCamera(cameraDistance=20, cameraYaw=45, cameraPitch=-45, cameraTargetPosition=[0,0,1.0])\n",
    "p.setAdditionalSearchPath(pybullet_data.getDataPath()) \n",
    "p.setGravity(0,0,0)\n",
    "planeId = p.loadURDF(\"plane.urdf\")\n",
    "start_pos = [0,0,0]\n",
    "start_orientation = p.getQuaternionFromEuler([0,0,0])\n",
    "robot_id = p.loadURDF(\"kuka_iiwa/model_free_base.urdf\", start_pos, start_orientation, useFixedBase=True)\n",
    "numJoints = p.getNumJoints(robot_id) # get the number of joints from the URDF\n",
    "\n",
    "\n",
    "# computing PyBullet output\n",
    "\n",
    "for i in range(numJoints):\n",
    "    p.resetJointState(robot_id,i,ThetaValues[i])\n",
    "    xPb, yPb, zPb =p.getLinkState(robot_id,6)[0]\n",
    "\n",
    "\n",
    "# Showing both outputs\n",
    "\n",
    "fig = pl.figure()\n",
    "ax = pl.axes(projection='3d')\n",
    "# enable next line if you want to force viewing the full state space\n",
    "#ax = pl.axes(xlim=[-1.4,1.4],ylim=[-1.4,1.4],zlim=[-1.4,1.4],projection='3d')\n",
    "ax.scatter(xPb, yPb, zPb, marker='x')    \n",
    "ax.scatter(xo, yo, zo, marker='o')\n"
   ]
  },
  {
   "cell_type": "markdown",
   "metadata": {},
   "source": [
    "We will now use the DH forward kinematics modeling in a simple application, namely estimating the position workspace of the robot arm, that is, all the positions accessible by the KUKA iiwa.\n",
    "\n",
    "According to the datasheet of the KUKA iiwa, the ranges for the joints are:\n",
    "\n",
    "| joint | range [degrees] |\n",
    "|---|---|\n",
    "| $\\theta_1$ | $\\pm170$ |\n",
    "| $\\theta_2$ | $\\pm120$ |\n",
    "| $\\theta_3$ | $\\pm170$ |\n",
    "| $\\theta_4$ | $\\pm120$ |\n",
    "| $\\theta_5$ | $\\pm170$ |\n",
    "| $\\theta_6$ | $\\pm120$ |\n",
    "| $\\theta_7$ | $\\pm175$ |\n",
    "\n",
    "\n",
    "In principle, you would have to generate a 3D figure, with 7 nested iteration loops to go over all possible values of the 7 joint angles. However, we can make two simplifications to this:\n",
    "1. The $\\theta_7$ rotation is just about orienting the end-effector, it does not affect its position. We can thus fix it to e.g. $\\theta_7=0$.\n",
    "2. The $\\theta_1$ rotation turns the whole robot arm around the fixed axis $z_0$, it thus turns whatever shape the rest of the manipulator is doing around that axis. Therefore, \n",
    "  - we do not have to make a loop over $\\theta_1$ either\n",
    "  - the only important output is: position along $z_0$, and distance to the axis $z_0$. This can be plotted in 2D.\n",
    "\n",
    "\n",
    "**Question/exercise**\n",
    "\n",
    "- Write a routine to visualize the position workspace of the KUKA iiwa. For validation you can compare your solution with workspace drawings that you find on the internet.\n",
    "\n",
    "**Hints:**\n",
    "1. *For further debugging, you can try to check out the behavior described above as a function of $\\theta_1$ and $\\theta_7.$*\n",
    "2. *Having 5 nested loops for the 5 remaining joint angles is still a lot. The program will quickly become very long to run if you loop over too many values for each joint.*\n",
    "3. *Another way than loops, is to simulate many (e.g. 100.000) random joint values. This can help smooth out discretization artifacts.*"
   ]
  },
  {
   "cell_type": "code",
   "execution_count": null,
   "metadata": {},
   "outputs": [],
   "source": [
    "jlimits = np.pi*np.array([170,120,170,120,170,120,175])/180 # cf specification table KUKA iiwa\n",
    "\n",
    "# HERE YOUR SOLUTION\n",
    "\n"
   ]
  },
  {
   "cell_type": "code",
   "execution_count": null,
   "metadata": {},
   "outputs": [],
   "source": [
    "p.disconnect() # end of exercise"
   ]
  },
  {
   "cell_type": "markdown",
   "metadata": {},
   "source": [
    "### Brain teasers  (optional)\n",
    "\n",
    "**Question/exercise** \n",
    "\n",
    "(a) In principle, it is sufficient to have 6 joints in order to reach all positions (3 distances) and all orientations (3 angles) of the end-effector. Why is it useful for KUKA iiwa to have 7 joints (like our human arm), and other robotic arms maybe more?\n",
    "\n",
    "*Hint*: The additional degree of freedom means that KUKA iiwa can make so-called \"null-space motions\", where the end-effector is kept static while the joint configuration changes.\n",
    "\n",
    "(b) What can you say about the end-effector *orientations* that can be reached by the KUKA iiwa? Can you think of a smart way to represent the position&orientation workspace graphically?"
   ]
  },
  {
   "cell_type": "markdown",
   "metadata": {},
   "source": [
    "## Exercise S.1   (optional) :\n",
    "\n",
    "Program the inverse kinematics (similar to Exercise 2) for the KUKA iiwa. You can now draw 3D motions in position and orientation. You should now truly see the power of this matrix framework, as the code becomes barely more complicated than the one of Exercise 2."
   ]
  },
  {
   "cell_type": "code",
   "execution_count": null,
   "metadata": {},
   "outputs": [],
   "source": []
  },
  {
   "cell_type": "markdown",
   "metadata": {},
   "source": [
    "## Exercise S.2  (optional):   a note on dynamic robot controllers\n",
    "\n",
    "Up to now we have focused only on the kinematics of the robot. Let us have another look at the planar manipulator of Exercise 1.\n",
    "\n",
    "**Question/exercise**\n",
    "\n",
    "(a) What assumptions did we make until now? What could be the problem if we transfer our approach to the real world?\n",
    "\n",
    "(b) Look at the code below and discuss the difference with the approach up until now.\n",
    "\n",
    "(c) (**difficult) Write a code that combines this with the computations of Exercise 2, in order to obtain a more realistic inverse kinematics controller."
   ]
  },
  {
   "cell_type": "code",
   "execution_count": null,
   "metadata": {},
   "outputs": [],
   "source": [
    "physicsClient = p.connect(p.DIRECT)"
   ]
  },
  {
   "cell_type": "code",
   "execution_count": null,
   "metadata": {},
   "outputs": [],
   "source": [
    "p.resetDebugVisualizerCamera(cameraDistance=20, cameraYaw=45, cameraPitch=-45, cameraTargetPosition=[0,0,1.0])\n",
    "p.setAdditionalSearchPath(pybullet_data.getDataPath()) \n",
    "p.setGravity(0,0,0)\n",
    "planeId = p.loadURDF(\"plane.urdf\")\n",
    "start_pos = [0,0,0]\n",
    "start_orientation = p.getQuaternionFromEuler([0,0,0])\n",
    "robot_id = p.loadURDF(\"kuka_iiwa/model_free_base.urdf\", start_pos, start_orientation, useFixedBase=True)\n",
    "p.setGravity(0, 0, -9.81)\n",
    "numJoints = p.getNumJoints(robot_id) # get the number of joints from the URDF"
   ]
  },
  {
   "cell_type": "code",
   "execution_count": null,
   "metadata": {},
   "outputs": [],
   "source": [
    "starting_pose = np.pi*np.array([0,0,0,0,0,0,0])/180\n",
    "for i in range(numJoints):\n",
    "    p.resetJointState(robot_id,i,starting_pose[i])"
   ]
  },
  {
   "cell_type": "code",
   "execution_count": null,
   "metadata": {},
   "outputs": [],
   "source": [
    "x = []\n",
    "y = []\n",
    "z = []\n",
    "t = []\n",
    "\n",
    "p.setRealTimeSimulation(0)\n",
    "target_joint_poses = np.pi*np.array([0,90,0,0,0,0,0])/180\n",
    "\n",
    "# Get current joint positions \n",
    "joint_states = p.getJointStates(robot_id, [0,1,2,3,4,5,6])\n",
    "current_joint_position = []\n",
    "for s in joint_states:\n",
    "    current_joint_position.append(s[0])\n",
    "current_joint_position = np.array(current_joint_position)\n",
    "\n",
    "# Go to the target position\n",
    "cnt = 0\n",
    "while not np.allclose(target_joint_poses, current_joint_position,rtol=1e-3,atol=1e-3):\n",
    "    p.stepSimulation()\n",
    "\n",
    "    for i in range(numJoints):\n",
    "        p.setJointMotorControl2(bodyIndex=robot_id,\n",
    "                                jointIndex=i,\n",
    "                                controlMode=p.POSITION_CONTROL,\n",
    "                                targetPosition=target_joint_poses[i],\n",
    "                                force=200,\n",
    "                                maxVelocity=0.35,\n",
    "                                positionGain=0.03,\n",
    "                                velocityGain=1.0)\n",
    "        #time.sleep(1./240.)\n",
    "\n",
    "    joint_states = p.getJointStates(robot_id, [0,1,2,3,4,5,6])\n",
    "    \n",
    "    # Update current joint positions\n",
    "    current_joint_position = []\n",
    "    for s in joint_states:\n",
    "        current_joint_position.append(s[0])\n",
    "    current_joint_position = np.array(current_joint_position)\n",
    "    \n",
    "    # Log the endeffector's postions\n",
    "    x.append(p.getLinkState(robot_id,6)[0][0])\n",
    "    y.append(p.getLinkState(robot_id,6)[0][1])\n",
    "    z.append(p.getLinkState(robot_id,6)[0][2])\n",
    "    t.append(cnt)\n",
    "    cnt = cnt + 1"
   ]
  },
  {
   "cell_type": "code",
   "execution_count": null,
   "metadata": {},
   "outputs": [],
   "source": [
    "fig = pl.figure()\n",
    "ax = pl.axes(xlim=[-1,1],ylim=[-1,1],zlim=[-1,1],projection=\"3d\")\n",
    "ax.scatter3D(x,y,z,c=t)\n",
    "ax.plot(x[0],y[0],z[0],'ro')\n",
    "pl.show()"
   ]
  },
  {
   "cell_type": "code",
   "execution_count": null,
   "metadata": {},
   "outputs": [],
   "source": [
    "p.disconnect()"
   ]
  },
  {
   "cell_type": "code",
   "execution_count": null,
   "metadata": {},
   "outputs": [],
   "source": [
    "# HERE YOUR SOLUTION"
   ]
  }
 ],
 "metadata": {
  "kernelspec": {
   "display_name": "Python 3.8.10 64-bit",
   "language": "python",
   "name": "python3"
  },
  "language_info": {
   "codemirror_mode": {
    "name": "ipython",
    "version": 3
   },
   "file_extension": ".py",
   "mimetype": "text/x-python",
   "name": "python",
   "nbconvert_exporter": "python",
   "pygments_lexer": "ipython3",
   "version": "3.8.10"
  },
  "vscode": {
   "interpreter": {
    "hash": "916dbcbb3f70747c44a77c7bcd40155683ae19c65e1c03b4aa3499c5328201f1"
   }
  }
 },
 "nbformat": 4,
 "nbformat_minor": 2
}
